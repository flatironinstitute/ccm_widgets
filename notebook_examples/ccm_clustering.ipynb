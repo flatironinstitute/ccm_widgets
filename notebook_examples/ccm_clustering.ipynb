{
 "cells": [
  {
   "cell_type": "code",
   "execution_count": 1,
   "metadata": {},
   "outputs": [
    {
     "name": "stdout",
     "output_type": "stream",
     "text": [
      "Initialized ccm_widgets for Jupyter notebooks.\n"
     ]
    }
   ],
   "source": [
    "import ccm_widgets as cw\n",
    "cw.init_jupyter()\n"
   ]
  },
  {
   "cell_type": "code",
   "execution_count": 2,
   "metadata": {},
   "outputs": [
    {
     "data": {
      "application/vnd.jupyter.widget-view+json": {
       "model_id": "63f23ba900eb40918979c2363dd2dbe3",
       "version_major": 2,
       "version_minor": 0
      },
      "text/plain": [
       "ReactopyaJupyterWidget()"
      ]
     },
     "metadata": {},
     "output_type": "display_data"
    }
   ],
   "source": [
    "X = cw.Clustering(\n",
    "    kachery_config=dict(\n",
    "        url='http://132.249.245.245:24342',\n",
    "        channel='public',\n",
    "        password='public',\n",
    "        download=True\n",
    "    )\n",
    ")\n",
    "X.show()"
   ]
  },
  {
   "cell_type": "code",
   "execution_count": null,
   "metadata": {},
   "outputs": [],
   "source": []
  }
 ],
 "metadata": {
  "kernelspec": {
   "display_name": "Python 3",
   "language": "python",
   "name": "python3"
  },
  "language_info": {
   "codemirror_mode": {
    "name": "ipython",
    "version": 3
   },
   "file_extension": ".py",
   "mimetype": "text/x-python",
   "name": "python",
   "nbconvert_exporter": "python",
   "pygments_lexer": "ipython3",
   "version": "3.6.9"
  }
 },
 "nbformat": 4,
 "nbformat_minor": 4
}
