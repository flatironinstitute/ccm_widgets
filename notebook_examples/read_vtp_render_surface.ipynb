{
 "cells": [
  {
   "cell_type": "code",
   "execution_count": 1,
   "metadata": {},
   "outputs": [
    {
     "name": "stdout",
     "output_type": "stream",
     "text": [
      "Initialized ccm_widgets for Jupyter notebooks.\n"
     ]
    }
   ],
   "source": [
    "from vtk import vtkXMLPolyDataReader\n",
    "from vtk.util.numpy_support import vtk_to_numpy\n",
    "from mountaintools import client as mt\n",
    "import ccm_widgets as cw\n",
    "cw.init_jupyter()"
   ]
  },
  {
   "cell_type": "code",
   "execution_count": 2,
   "metadata": {},
   "outputs": [],
   "source": [
    "# Read data from .vtp file\n",
    "\n",
    "fname = mt.realizeFile(path='sha1://22f242215ed2625db02b3a1f9d89364defa013f6/quas3.vtp')\n",
    "vtp_array_name_for_scalars = 'value'\n",
    "vtp_array_component_for_scalars = 0\n",
    "reader = vtkXMLPolyDataReader()\n",
    "reader.SetFileName(fname)\n",
    "reader.Update()\n",
    "X = reader.GetOutput()\n",
    "vertices = vtk_to_numpy(X.GetPoints().GetData()).T\n",
    "faces = vtk_to_numpy(X.GetPolys().GetData())\n",
    "\n",
    "if vtp_array_name_for_scalars:\n",
    "    scalars = vtk_to_numpy(X.GetPointData().GetArray(vtp_array_name_for_scalars))\n",
    "    scalars = scalars[:, vtp_array_component_for_scalars]\n",
    "else:\n",
    "    scalars = None"
   ]
  },
  {
   "cell_type": "code",
   "execution_count": 3,
   "metadata": {},
   "outputs": [
    {
     "data": {
      "application/vnd.jupyter.widget-view+json": {
       "model_id": "ae1248863fdf45489d6504c8c09a9c96",
       "version_major": 2,
       "version_minor": 0
      },
      "text/plain": [
       "ReactopyaWidget()"
      ]
     },
     "metadata": {},
     "output_type": "display_data"
    }
   ],
   "source": [
    "X = cw.Surface3d(vertices=vertices, faces=faces, scalars=scalars, width=200)\n",
    "X.show()"
   ]
  },
  {
   "cell_type": "code",
   "execution_count": 4,
   "metadata": {},
   "outputs": [
    {
     "data": {
      "application/vnd.jupyter.widget-view+json": {
       "model_id": "0d2e493f26cc468fa7cf056f6ef7f5d2",
       "version_major": 2,
       "version_minor": 0
      },
      "text/plain": [
       "ReactopyaWidget()"
      ]
     },
     "metadata": {},
     "output_type": "display_data"
    }
   ],
   "source": [
    "X = cw.Surface3dVtp(\n",
    "    vtp_path=fname,\n",
    "    vtp_array_name_for_scalars=vtp_array_name_for_scalars,\n",
    "    vtp_array_component_for_scalars=vtp_array_component_for_scalars,\n",
    "    width=200\n",
    ")\n",
    "X.show()"
   ]
  },
  {
   "cell_type": "code",
   "execution_count": 5,
   "metadata": {},
   "outputs": [],
   "source": [
    "X.export_snapshot('test.html', format='html')"
   ]
  },
  {
   "cell_type": "code",
   "execution_count": null,
   "metadata": {},
   "outputs": [],
   "source": [
    "cw."
   ]
  }
 ],
 "metadata": {
  "kernelspec": {
   "display_name": "Python 3",
   "language": "python",
   "name": "python3"
  },
  "language_info": {
   "codemirror_mode": {
    "name": "ipython",
    "version": 3
   },
   "file_extension": ".py",
   "mimetype": "text/x-python",
   "name": "python",
   "nbconvert_exporter": "python",
   "pygments_lexer": "ipython3",
   "version": "3.6.8"
  }
 },
 "nbformat": 4,
 "nbformat_minor": 4
}
