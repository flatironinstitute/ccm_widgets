{
 "cells": [
  {
   "cell_type": "code",
   "execution_count": null,
   "metadata": {},
   "outputs": [],
   "source": [
    "import numpy as np\n",
    "import ccm_widgets as cw\n",
    "cw.init_jupyter()"
   ]
  },
  {
   "cell_type": "code",
   "execution_count": null,
   "metadata": {},
   "outputs": [],
   "source": [
    "X = cw.Surface3dVtp(\n",
    "    vtp_path=\"sha1://22f242215ed2625db02b3a1f9d89364defa013f6/quas3.vtp\",\n",
    "    download_from=\"spikeforest.public\",\n",
    "    scalar_info=dict(\n",
    "        name=\"value\",\n",
    "        component=0\n",
    "    ),\n",
    "    vector_field_info=dict(\n",
    "        name=\"value\",\n",
    "        components=[0, 2, 4]\n",
    "    ),\n",
    "    arrow_subsample_factor=293,\n",
    "    arrow_width=0.3,\n",
    "    arrow_length_factor=0.3\n",
    ")\n",
    "X.show()"
   ]
  },
  {
   "cell_type": "code",
   "execution_count": null,
   "metadata": {},
   "outputs": [],
   "source": [
    "# export snapshot\n",
    "X.export_snapshot('quas3.html', format='html')"
   ]
  },
  {
   "cell_type": "code",
   "execution_count": null,
   "metadata": {},
   "outputs": [],
   "source": [
    "# Create 3 faces of a cube and an arrow\n",
    "\n",
    "vertices = []\n",
    "lookup = np.zeros((2, 2, 2))\n",
    "for i1 in range(2):\n",
    "    for i2 in range(2):\n",
    "        for i3 in range(2):\n",
    "            vertices.append([i1, i2, i3])\n",
    "            lookup[i1, i2, i3] = len(vertices) - 1\n",
    "faces = []\n",
    "for ii in range(1):\n",
    "    faces.append([lookup[0, 0, ii], lookup[0, 1, ii], lookup[1, 1, ii], lookup[1, 0, ii]])\n",
    "    faces.append([lookup[0, ii, 0], lookup[0, ii, 1], lookup[1, ii, 1], lookup[1, ii, 0]])\n",
    "    faces.append([lookup[ii, 0, 0], lookup[ii, 0, 1], lookup[ii, 1, 1], lookup[ii, 1, 0]])\n",
    "faces2 = []\n",
    "for face in faces:\n",
    "    faces2 = faces2 + [4] + face\n",
    "\n",
    "arrows = [\n",
    "    dict(\n",
    "        start=[0, 0, 0],\n",
    "        end=[1, 0, 0]\n",
    "    )\n",
    "]\n",
    "    \n",
    "cw.Surface3d(\n",
    "    vertices=vertices,\n",
    "    faces=faces2,\n",
    "    arrows=arrows,\n",
    "    arrow_length_factor=1,\n",
    "    arrow_width=1\n",
    ").show()"
   ]
  }
 ],
 "metadata": {
  "kernelspec": {
   "display_name": "Python 3",
   "language": "python",
   "name": "python3"
  },
  "language_info": {
   "codemirror_mode": {
    "name": "ipython",
    "version": 3
   },
   "file_extension": ".py",
   "mimetype": "text/x-python",
   "name": "python",
   "nbconvert_exporter": "python",
   "pygments_lexer": "ipython3",
   "version": "3.6.8"
  }
 },
 "nbformat": 4,
 "nbformat_minor": 4
}
