{
 "cells": [
  {
   "cell_type": "code",
   "execution_count": 3,
   "metadata": {},
   "outputs": [
    {
     "name": "stdout",
     "output_type": "stream",
     "text": [
      "Initialized ccm_widgets for Jupyter notebooks.\n"
     ]
    }
   ],
   "source": [
    "import numpy as np\n",
    "import ccm_widgets as cw\n",
    "cw.init_jupyter()"
   ]
  },
  {
   "cell_type": "code",
   "execution_count": 4,
   "metadata": {},
   "outputs": [
    {
     "data": {
      "application/vnd.jupyter.widget-view+json": {
       "model_id": "15c54eee8a274d4eb2372567b4eb6acf",
       "version_major": 2,
       "version_minor": 0
      },
      "text/plain": [
       "ReactopyaWidget()"
      ]
     },
     "metadata": {},
     "output_type": "display_data"
    }
   ],
   "source": [
    "cw.Surface3dVtp(\n",
    "    vtp_path=\"sha1://22f242215ed2625db02b3a1f9d89364defa013f6/quas3.vtp\",\n",
    "    download_from=\"spikeforest.public\",\n",
    "    vtp_array_name_for_scalars=\"value\",\n",
    "    vtp_array_component_for_scalars=5,\n",
    "    preset_color_map_name=\"erdc_rainbow_bright\",\n",
    "    width=250\n",
    ").show()"
   ]
  },
  {
   "cell_type": "code",
   "execution_count": 3,
   "metadata": {},
   "outputs": [
    {
     "data": {
      "application/vnd.jupyter.widget-view+json": {
       "model_id": "bf58abfb3f9b4c54bd116ec06328ff83",
       "version_major": 2,
       "version_minor": 0
      },
      "text/plain": [
       "ReactopyaWidget()"
      ]
     },
     "metadata": {},
     "output_type": "display_data"
    }
   ],
   "source": [
    "W1 = cw.Surface3dVtp(\n",
    "    vtp_path=\"sha1://22f242215ed2625db02b3a1f9d89364defa013f6/quas3.vtp\",\n",
    "    download_from=\"spikeforest.public\",\n",
    "    vtp_array_name_for_scalars=\"value\",\n",
    "    vtp_array_component_for_scalars=5,\n",
    "    preset_color_map_name=\"erdc_rainbow_bright\"\n",
    ")\n",
    "\n",
    "W2 = cw.Surface3dVtp(\n",
    "    vtp_path=\"sha1://0597babfc4a5371aa1aac91e28ace151259efb49/shell.vtp\",\n",
    "    download_from=\"spikeforest.public\",\n",
    "    vtp_array_name_for_scalars=\"value\",\n",
    "    vtp_array_component_for_scalars=0,\n",
    "    preset_color_map_name=\"erdc_rainbow_bright\"\n",
    ")\n",
    "\n",
    "cw.HBox(W1, W2, width=500).show()"
   ]
  },
  {
   "cell_type": "code",
   "execution_count": 4,
   "metadata": {},
   "outputs": [
    {
     "data": {
      "application/vnd.jupyter.widget-view+json": {
       "model_id": "62d383afcf734d4d90940d7687139866",
       "version_major": 2,
       "version_minor": 0
      },
      "text/plain": [
       "ReactopyaWidget()"
      ]
     },
     "metadata": {},
     "output_type": "display_data"
    }
   ],
   "source": [
    "# Create 3 faces of a cube\n",
    "\n",
    "vertices = []\n",
    "lookup = np.zeros((2, 2, 2))\n",
    "for i1 in range(2):\n",
    "    for i2 in range(2):\n",
    "        for i3 in range(2):\n",
    "            vertices.append([i1, i2, i3])\n",
    "            lookup[i1, i2, i3] = len(vertices) - 1\n",
    "faces = []\n",
    "for ii in range(1):\n",
    "    faces.append([lookup[0, 0, ii], lookup[0, 1, ii], lookup[1, 1, ii], lookup[1, 0, ii]])\n",
    "    faces.append([lookup[0, ii, 0], lookup[0, ii, 1], lookup[1, ii, 1], lookup[1, ii, 0]])\n",
    "    faces.append([lookup[ii, 0, 0], lookup[ii, 0, 1], lookup[ii, 1, 1], lookup[ii, 1, 0]])\n",
    "faces2 = []\n",
    "for face in faces:\n",
    "    faces2 = faces2 + [4] + face\n",
    "\n",
    "cw.Surface3d(\n",
    "    vertices=vertices,\n",
    "    faces=faces2\n",
    ").show()"
   ]
  },
  {
   "cell_type": "code",
   "execution_count": null,
   "metadata": {},
   "outputs": [],
   "source": []
  }
 ],
 "metadata": {
  "kernelspec": {
   "display_name": "Python 3",
   "language": "python",
   "name": "python3"
  },
  "language_info": {
   "codemirror_mode": {
    "name": "ipython",
    "version": 3
   },
   "file_extension": ".py",
   "mimetype": "text/x-python",
   "name": "python",
   "nbconvert_exporter": "python",
   "pygments_lexer": "ipython3",
   "version": "3.6.8"
  }
 },
 "nbformat": 4,
 "nbformat_minor": 4
}
